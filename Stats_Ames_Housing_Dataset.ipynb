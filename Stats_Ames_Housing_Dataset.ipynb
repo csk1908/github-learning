{
 "cells": [
  {
   "cell_type": "markdown",
   "metadata": {},
   "source": [
    "1.\n",
    "Instructions.\n",
    "The path for the dataset is stored in the variable path\n",
    "Store the dataset in a Pandas DataFrame df using read_csv() method\n",
    "Use the .hist() method from pandas to plot the required histogram of SalePrice\n",
    "Set the values of bins = 10 for hist() method\n",
    "\n",
    "Test Cases: df should be a Pandas DataFrame.\n",
    "The shape of DataFrame df should be (1379,35)."
   ]
  },
  {
   "cell_type": "code",
   "execution_count": 2,
   "metadata": {},
   "outputs": [],
   "source": [
    "import pandas as pd\n",
    "import numpy as np\n",
    "import matplotlib.pyplot as plt\n",
    "import math"
   ]
  },
  {
   "cell_type": "code",
   "execution_count": 3,
   "metadata": {},
   "outputs": [
    {
     "data": {
      "text/html": [
       "<div>\n",
       "<style scoped>\n",
       "    .dataframe tbody tr th:only-of-type {\n",
       "        vertical-align: middle;\n",
       "    }\n",
       "\n",
       "    .dataframe tbody tr th {\n",
       "        vertical-align: top;\n",
       "    }\n",
       "\n",
       "    .dataframe thead th {\n",
       "        text-align: right;\n",
       "    }\n",
       "</style>\n",
       "<table border=\"1\" class=\"dataframe\">\n",
       "  <thead>\n",
       "    <tr style=\"text-align: right;\">\n",
       "      <th></th>\n",
       "      <th>LotFrontage</th>\n",
       "      <th>LotArea</th>\n",
       "      <th>OverallQual</th>\n",
       "      <th>OverallCond</th>\n",
       "      <th>YearBuilt</th>\n",
       "      <th>YearRemodAdd</th>\n",
       "      <th>MasVnrArea</th>\n",
       "      <th>BsmtFinSF1</th>\n",
       "      <th>BsmtFinSF2</th>\n",
       "      <th>BsmtUnfSF</th>\n",
       "      <th>...</th>\n",
       "      <th>GarageArea</th>\n",
       "      <th>WoodDeckSF</th>\n",
       "      <th>OpenPorchSF</th>\n",
       "      <th>EnclosedPorch</th>\n",
       "      <th>3SsnPorch</th>\n",
       "      <th>ScreenPorch</th>\n",
       "      <th>PoolArea</th>\n",
       "      <th>MiscVal</th>\n",
       "      <th>YrSold</th>\n",
       "      <th>SalePrice</th>\n",
       "    </tr>\n",
       "  </thead>\n",
       "  <tbody>\n",
       "    <tr>\n",
       "      <th>0</th>\n",
       "      <td>65.0</td>\n",
       "      <td>8450</td>\n",
       "      <td>7</td>\n",
       "      <td>5</td>\n",
       "      <td>2003</td>\n",
       "      <td>2003</td>\n",
       "      <td>196.0</td>\n",
       "      <td>706</td>\n",
       "      <td>0</td>\n",
       "      <td>150</td>\n",
       "      <td>...</td>\n",
       "      <td>548</td>\n",
       "      <td>0</td>\n",
       "      <td>61</td>\n",
       "      <td>0</td>\n",
       "      <td>0</td>\n",
       "      <td>0</td>\n",
       "      <td>0</td>\n",
       "      <td>0</td>\n",
       "      <td>2008</td>\n",
       "      <td>208500</td>\n",
       "    </tr>\n",
       "    <tr>\n",
       "      <th>1</th>\n",
       "      <td>80.0</td>\n",
       "      <td>9600</td>\n",
       "      <td>6</td>\n",
       "      <td>8</td>\n",
       "      <td>1976</td>\n",
       "      <td>1976</td>\n",
       "      <td>0.0</td>\n",
       "      <td>978</td>\n",
       "      <td>0</td>\n",
       "      <td>284</td>\n",
       "      <td>...</td>\n",
       "      <td>460</td>\n",
       "      <td>298</td>\n",
       "      <td>0</td>\n",
       "      <td>0</td>\n",
       "      <td>0</td>\n",
       "      <td>0</td>\n",
       "      <td>0</td>\n",
       "      <td>0</td>\n",
       "      <td>2007</td>\n",
       "      <td>181500</td>\n",
       "    </tr>\n",
       "    <tr>\n",
       "      <th>2</th>\n",
       "      <td>68.0</td>\n",
       "      <td>11250</td>\n",
       "      <td>7</td>\n",
       "      <td>5</td>\n",
       "      <td>2001</td>\n",
       "      <td>2002</td>\n",
       "      <td>162.0</td>\n",
       "      <td>486</td>\n",
       "      <td>0</td>\n",
       "      <td>434</td>\n",
       "      <td>...</td>\n",
       "      <td>608</td>\n",
       "      <td>0</td>\n",
       "      <td>42</td>\n",
       "      <td>0</td>\n",
       "      <td>0</td>\n",
       "      <td>0</td>\n",
       "      <td>0</td>\n",
       "      <td>0</td>\n",
       "      <td>2008</td>\n",
       "      <td>223500</td>\n",
       "    </tr>\n",
       "    <tr>\n",
       "      <th>3</th>\n",
       "      <td>60.0</td>\n",
       "      <td>9550</td>\n",
       "      <td>7</td>\n",
       "      <td>5</td>\n",
       "      <td>1915</td>\n",
       "      <td>1970</td>\n",
       "      <td>0.0</td>\n",
       "      <td>216</td>\n",
       "      <td>0</td>\n",
       "      <td>540</td>\n",
       "      <td>...</td>\n",
       "      <td>642</td>\n",
       "      <td>0</td>\n",
       "      <td>35</td>\n",
       "      <td>272</td>\n",
       "      <td>0</td>\n",
       "      <td>0</td>\n",
       "      <td>0</td>\n",
       "      <td>0</td>\n",
       "      <td>2006</td>\n",
       "      <td>140000</td>\n",
       "    </tr>\n",
       "    <tr>\n",
       "      <th>4</th>\n",
       "      <td>84.0</td>\n",
       "      <td>14260</td>\n",
       "      <td>8</td>\n",
       "      <td>5</td>\n",
       "      <td>2000</td>\n",
       "      <td>2000</td>\n",
       "      <td>350.0</td>\n",
       "      <td>655</td>\n",
       "      <td>0</td>\n",
       "      <td>490</td>\n",
       "      <td>...</td>\n",
       "      <td>836</td>\n",
       "      <td>192</td>\n",
       "      <td>84</td>\n",
       "      <td>0</td>\n",
       "      <td>0</td>\n",
       "      <td>0</td>\n",
       "      <td>0</td>\n",
       "      <td>0</td>\n",
       "      <td>2008</td>\n",
       "      <td>250000</td>\n",
       "    </tr>\n",
       "  </tbody>\n",
       "</table>\n",
       "<p>5 rows × 35 columns</p>\n",
       "</div>"
      ],
      "text/plain": [
       "   LotFrontage  LotArea  OverallQual  OverallCond  YearBuilt  YearRemodAdd  \\\n",
       "0         65.0     8450            7            5       2003          2003   \n",
       "1         80.0     9600            6            8       1976          1976   \n",
       "2         68.0    11250            7            5       2001          2002   \n",
       "3         60.0     9550            7            5       1915          1970   \n",
       "4         84.0    14260            8            5       2000          2000   \n",
       "\n",
       "   MasVnrArea  BsmtFinSF1  BsmtFinSF2  BsmtUnfSF  ...  GarageArea  WoodDeckSF  \\\n",
       "0       196.0         706           0        150  ...         548           0   \n",
       "1         0.0         978           0        284  ...         460         298   \n",
       "2       162.0         486           0        434  ...         608           0   \n",
       "3         0.0         216           0        540  ...         642           0   \n",
       "4       350.0         655           0        490  ...         836         192   \n",
       "\n",
       "   OpenPorchSF  EnclosedPorch  3SsnPorch  ScreenPorch  PoolArea  MiscVal  \\\n",
       "0           61              0          0            0         0        0   \n",
       "1            0              0          0            0         0        0   \n",
       "2           42              0          0            0         0        0   \n",
       "3           35            272          0            0         0        0   \n",
       "4           84              0          0            0         0        0   \n",
       "\n",
       "   YrSold  SalePrice  \n",
       "0    2008     208500  \n",
       "1    2007     181500  \n",
       "2    2008     223500  \n",
       "3    2006     140000  \n",
       "4    2008     250000  \n",
       "\n",
       "[5 rows x 35 columns]"
      ]
     },
     "execution_count": 3,
     "metadata": {},
     "output_type": "execute_result"
    }
   ],
   "source": [
    "df = pd.read_csv('Stats_Ames_Housing_Dataset.csv')\n",
    "df.head()"
   ]
  },
  {
   "cell_type": "code",
   "execution_count": 4,
   "metadata": {},
   "outputs": [
    {
     "data": {
      "text/plain": [
       "(1379, 35)"
      ]
     },
     "execution_count": 4,
     "metadata": {},
     "output_type": "execute_result"
    }
   ],
   "source": [
    "df.shape"
   ]
  },
  {
   "cell_type": "code",
   "execution_count": 4,
   "metadata": {},
   "outputs": [
    {
     "data": {
      "text/plain": [
       "<matplotlib.axes._subplots.AxesSubplot at 0x21b13e0ffc8>"
      ]
     },
     "execution_count": 4,
     "metadata": {},
     "output_type": "execute_result"
    },
    {
     "data": {
      "image/png": "[encoded data removed]",
      "text/plain": [
       "<Figure size 432x288 with 1 Axes>"
      ]
     },
     "metadata": {
      "needs_background": "light"
     },
     "output_type": "display_data"
    }
   ],
   "source": [
    "df['SalePrice'].hist(bins = 10)\n",
    "#df.hist('SalePrice', bins=10) #Alternative"
   ]
  },
  {
   "cell_type": "markdown",
   "metadata": {},
   "source": [
    "2. \n",
    "In this task, we will plot a scatter plot for the features of SalePrice and GarageArea\n",
    "\n",
    "Instructions\n",
    "We have the dataset stored in the DataFrame df\n",
    "Use the plt.scatter() method to draw the scatter plot, the first input parameter being df.SalePrice and second input parameter being GarageArea.\n",
    "Label the plot appropriately\n",
    "Test Cases: No test cases provided for this task."
   ]
  },
  {
   "cell_type": "code",
   "execution_count": 7,
   "metadata": {},
   "outputs": [
    {
     "data": {
      "text/plain": [
       "Text(0.5, 1.0, 'Scatter Plot of Sales Price vs. Garage Area')"
      ]
     },
     "execution_count": 7,
     "metadata": {},
     "output_type": "execute_result"
    },
    {
     "data": {
      "image/png": "[encoded data removed]",
      "text/plain": [
       "<Figure size 432x288 with 1 Axes>"
      ]
     },
     "metadata": {
      "needs_background": "light"
     },
     "output_type": "display_data"
    }
   ],
   "source": [
    "df.plot.scatter(x ='SalePrice', y ='GarageArea')\n",
    "#plt.scatter(df['SalePrice'],df['GarageArea']) #Alternative\n",
    "\n",
    "plt.xlabel('Sales Price')\n",
    "plt.ylabel('Garage Area (square feet)')\n",
    "plt.title('Scatter Plot of Sales Price vs. Garage Area')"
   ]
  },
  {
   "cell_type": "markdown",
   "metadata": {},
   "source": [
    "3.\n",
    "Plot the pie chart for number of GarageCars for all the houses in the dataset\n",
    "In this task, we will plot a Pie Chart for the GarageCars feature from the dataset\n",
    "\n",
    "Instructions\n",
    "The dataset is stored in the DataFrame df\n",
    "Create a new pandas series named garage with value_count() method for column GarageCars\n",
    "Use pie() method from matplotlib with previously created series garage as input\n",
    "Label the plot appropriately\n",
    "Test Cases: garage should be a Pandas Series.\n",
    "\n",
    "garage[3] == 181"
   ]
  },
  {
   "cell_type": "code",
   "execution_count": 6,
   "metadata": {},
   "outputs": [
    {
     "data": {
      "text/plain": [
       "2    824\n",
       "1    369\n",
       "3    181\n",
       "4      5\n",
       "Name: GarageCars, dtype: int64"
      ]
     },
     "execution_count": 6,
     "metadata": {},
     "output_type": "execute_result"
    }
   ],
   "source": [
    "garage = df['GarageCars'].value_counts()\n",
    "garage"
   ]
  },
  {
   "cell_type": "code",
   "execution_count": 7,
   "metadata": {},
   "outputs": [
    {
     "data": {
      "text/plain": [
       "181"
      ]
     },
     "execution_count": 7,
     "metadata": {},
     "output_type": "execute_result"
    }
   ],
   "source": [
    "garage[3]"
   ]
  },
  {
   "cell_type": "code",
   "execution_count": 11,
   "metadata": {},
   "outputs": [],
   "source": [
    "plt.pie?"
   ]
  },
  {
   "cell_type": "code",
   "execution_count": 8,
   "metadata": {},
   "outputs": [
    {
     "data": {
      "text/plain": [
       "Text(0.5, 1.0, 'number of GarageCars for all the houses')"
      ]
     },
     "execution_count": 8,
     "metadata": {},
     "output_type": "execute_result"
    },
    {
     "data": {
      "image/png": "[encoded data removed]",
      "text/plain": [
       "<Figure size 432x288 with 1 Axes>"
      ]
     },
     "metadata": {},
     "output_type": "display_data"
    }
   ],
   "source": [
    "#label =  [\"2 gcars\", \"1 gcars\", \"3 gcars\", \"4 gcars\"]\n",
    "#plt.pie(garage , labels = label,autopct='%1.1f%%')\n",
    "\n",
    "garage.plot(kind = \"pie\")\n",
    "plt.title(\"number of GarageCars for all the houses\")"
   ]
  },
  {
   "cell_type": "markdown",
   "metadata": {},
   "source": [
    "Calculate arithmetic mean, median, mode for SalePrice and plot the same on the histogram\n",
    "In this task, we will calculate the central tendency measures for the column of SalePrice from our data\n",
    "\n",
    "Instructions\n",
    "The dataset is stored in DataFrame df\n",
    "Calculate arithmetic mean for SalePrice using mean() method of pandas and store the value in a variable names mean\n",
    "Calculate mode for SalePrice using mode() method of pandas and store the value in a variable names mode\n",
    "Calculate the median for SalePrice using median() method of pandas and store the value in a variable names median\n",
    "Use hist() method from matplotlib to plot the histogram for SalePrice, keep bins=40 as a parameter\n",
    "Use the following block of code to plot the mean, median and mode on the histogram.\n",
    "plt.plot([mode]*300, range(300), label='mode')\n",
    "plt.plot([median]*300, range(300), label='median')\n",
    "plt.plot([mean]*300, range(300), label='mean')\n",
    "Plot the legend for the chart\n",
    "Test Cases:\n",
    "\n",
    "Value of mode should be 140000, mode[0] == 140000\n",
    "Value of mean should be 185479.51, rounded to two decimal places, np.round(mean , 2) == np.round(185479.511240029,2)\n",
    "Value of median should be 167500.0, rounded to two decimal places, np.round(median,2)==np.round(167500.0,2)"
   ]
  },
  {
   "cell_type": "code",
   "execution_count": 73,
   "metadata": {},
   "outputs": [],
   "source": [
    "df.mode?"
   ]
  },
  {
   "cell_type": "code",
   "execution_count": 13,
   "metadata": {},
   "outputs": [
    {
     "name": "stdout",
     "output_type": "stream",
     "text": [
      "Mean is  185479.51\n",
      "Mode is  0    140000\n",
      "dtype: int64\n",
      "Median is  167500.0\n"
     ]
    }
   ],
   "source": [
    "#Mean\n",
    "mean = df['SalePrice'].mean()\n",
    "mean = round(mean,2)\n",
    "print('Mean is ',mean)\n",
    "\n",
    "#Mode\n",
    "mode = df['SalePrice'].mode()\n",
    "#mode = df.loc[:,\"SalePrice\"].mode() #Alternative\n",
    "print('Mode is ',mode)\n",
    "\n",
    "#Median\n",
    "median = df['SalePrice'].median()\n",
    "print('Median is ',median)"
   ]
  },
  {
   "cell_type": "code",
   "execution_count": 14,
   "metadata": {},
   "outputs": [
    {
     "data": {
      "text/plain": [
       "[<matplotlib.lines.Line2D at 0x1f87eea3388>]"
      ]
     },
     "execution_count": 14,
     "metadata": {},
     "output_type": "execute_result"
    },
    {
     "data": {
      "image/png": "[encoded data removed]",
      "text/plain": [
       "<Figure size 432x288 with 1 Axes>"
      ]
     },
     "metadata": {
      "needs_background": "light"
     },
     "output_type": "display_data"
    }
   ],
   "source": [
    "df['SalePrice'].hist(bins = 40)\n",
    "plt.plot([mode]*300, range(300), label='mode')\n",
    "plt.plot([median]*300, range(300), label='median')\n",
    "plt.plot([mean]*300, range(300), label='mean')"
   ]
  },
  {
   "cell_type": "markdown",
   "metadata": {},
   "source": [
    "Calculate the range of SalePrice\n",
    "In the task, we will calculate the range for the columns of SalePrice\n",
    "\n",
    "Find the highest value for the column SalePrice use max() method and save in variable maximum\n",
    "Find the lowest value for the column SalePrice use min() method and save in variable minimum\n",
    "Calculate the range by finding the difference between the above-calculated values and store the same in range_saleprice.\n",
    "Print the value of the range\n",
    "Test Cases: Expected value of maximum should be 755000.\n",
    "Expected value of minimum should be 35311.\n",
    "Calculated value of range_saleprice should be 719689."
   ]
  },
  {
   "cell_type": "code",
   "execution_count": 15,
   "metadata": {},
   "outputs": [
    {
     "name": "stdout",
     "output_type": "stream",
     "text": [
      "Max is  755000\n",
      "Min is  35311\n",
      "Range is  719689\n"
     ]
    }
   ],
   "source": [
    "maximum = df['SalePrice'].max()\n",
    "print('Max is ',maximum)\n",
    "\n",
    "minimum = df['SalePrice'].min()\n",
    "print('Min is ',minimum)\n",
    "\n",
    "range_saleprice = maximum - minimum\n",
    "print('Range is ',range_saleprice)\n"
   ]
  },
  {
   "cell_type": "markdown",
   "metadata": {},
   "source": [
    "Calculate the MAD for SalePrice\n",
    "In this task, we will calculate the Mean Absolute Deviation for the features of SalePrice\n",
    "\n",
    "Calculate the arithmetic mean of the variable SalePrice using mean() method and store it in a variable mean\n",
    "Calculate the absolute distances from mean for each observation of SalePrice and store it in variable distance\n",
    "Calculate the MAD using the above calculated values and store in mad\n",
    "Test Cases:\n",
    "\n",
    "Expected value for mean, rounded to two decimal places should be 185479.51.\n",
    "Expected value for mad, rounded to two decimal places should be 57166.39."
   ]
  },
  {
   "cell_type": "code",
   "execution_count": 16,
   "metadata": {},
   "outputs": [
    {
     "name": "stdout",
     "output_type": "stream",
     "text": [
      "Mean is  185479.51\n",
      "MAD is  57166.39\n"
     ]
    }
   ],
   "source": [
    "mean = df['SalePrice'].mean()\n",
    "mean = round(mean,2)\n",
    "print('Mean is ',mean)\n",
    "\n",
    "distance = abs(df['SalePrice'] - mean)\n",
    "\n",
    "mad = distance.mean()\n",
    "mad = round(mad,2)\n",
    "print('MAD is ',mad)"
   ]
  },
  {
   "cell_type": "markdown",
   "metadata": {},
   "source": [
    "Calculate the Standard Deviation for SalePrice\n",
    "In this task, we will calculate the Standard Deviation for the feature of SalePrice\n",
    "\n",
    "Calculate the arithmetic mean of the variable SalePrice using mean() method and store it in a variable\n",
    "Calculate the squared distances from mean for each observation of SalePrice\n",
    "Calculate the Standard Deviation using the above calculated values and store the same in sd\n",
    "Test Cases:\n",
    "\n",
    "Expected value for the mean should be 185479.51.\n",
    "Expected value for the sd should be 78995.23."
   ]
  },
  {
   "cell_type": "code",
   "execution_count": 18,
   "metadata": {},
   "outputs": [
    {
     "name": "stdout",
     "output_type": "stream",
     "text": [
      "Mean is  185479.51\n",
      "SD is  78995.23\n"
     ]
    }
   ],
   "source": [
    "mean = df['SalePrice'].mean()\n",
    "mean = round(mean,2)\n",
    "print('Mean is ',mean)\n",
    "\n",
    "distance = (df['SalePrice'] - mean)**2\n",
    "distance\n",
    "\n",
    "#(distance.sum()/len(distance))**(1/2)\n",
    "\n",
    "sd = math.sqrt(distance.mean())\n",
    "sd = round(sd,2)\n",
    "print('SD is ',sd)\n",
    "\n"
   ]
  },
  {
   "cell_type": "markdown",
   "metadata": {},
   "source": [
    "Calculate CV for GarageArea and LotArea and compare the same\n",
    "In this task, we will calculate the coefficient of variation of features GarageArea and LotArea and compare which feature shows greater variation\n",
    "\n",
    "Instructions\n",
    "Calculate mean and stadard deviation for GarageArea(using df.mean() and df.std()) and store the same in variables garage_mean and garage_std respectively\n",
    "Calculate mean and standard deviation for LotArea(using df.mean() and df.std()) and store the same in variables lot_mean and lot_std respectively\n",
    "Calculate the CV for GarageArea and LotArea, save the same in variables garage_cv and lot_cv.\n",
    "Print the values of garage_cv and lot_cv.\n",
    "\n",
    "Test Cases:\n",
    "\n",
    "Expected value for garage_mean should be 500.76\n",
    "Expected value for garage_std should be 185.68.\n",
    "Expected value for garage_cv should be 37.08.\n",
    "Expected value for lot_mean should be 10695.81.\n",
    "Expected value for the lot_std should be 10214.70.\n",
    "Expected value for the lot_cv should be 95.50."
   ]
  },
  {
   "cell_type": "code",
   "execution_count": 19,
   "metadata": {},
   "outputs": [
    {
     "name": "stdout",
     "output_type": "stream",
     "text": [
      "Garage Mean is  500.76\n",
      "Garage STD is  185.68\n",
      "Garage CV is  37.08\n"
     ]
    }
   ],
   "source": [
    "#Garage Area CV\n",
    "garage_mean = round(df['GarageArea'].mean(),2)\n",
    "print('Garage Mean is ',garage_mean)\n",
    "\n",
    "garage_std = round(df['GarageArea'].std(),2)\n",
    "print('Garage STD is ',garage_std)\n",
    "\n",
    "garage_cv = (garage_std/garage_mean)*100\n",
    "print('Garage CV is ',round(garage_cv,2))"
   ]
  },
  {
   "cell_type": "code",
   "execution_count": 20,
   "metadata": {},
   "outputs": [
    {
     "name": "stdout",
     "output_type": "stream",
     "text": [
      "LotArea Mean is  10695.81\n",
      "LotArea STD is  10214.7\n",
      "LotArea CV is  95.5\n"
     ]
    }
   ],
   "source": [
    "#LotArea CV\n",
    "lot_mean = round(df['LotArea'].mean(),2)\n",
    "print('LotArea Mean is ',lot_mean)\n",
    "\n",
    "lot_std = round(df['LotArea'].std(),2)\n",
    "print('LotArea STD is ',lot_std)\n",
    "\n",
    "lot_cv = (lot_std/lot_mean)*100\n",
    "print('LotArea CV is ',round(lot_cv,2))"
   ]
  },
  {
   "cell_type": "markdown",
   "metadata": {},
   "source": [
    "Inter - Quartile Range (IQR)\n",
    "In this task, we will be calculating the interquartile range for the feature of SalePrice\n",
    "\n",
    "Instructions\n",
    "Calculate the value of Q1 for SalePrice using quantile() method and store the value in the variable named q1\n",
    "Calculate the value of Q3 for SalePrice using quantile() method and store the value in the variable named q3\n",
    "Calculate the IQR and store it in variable iqr\n",
    "Test Cases:* Expected value of iqr should be 83750.0."
   ]
  },
  {
   "cell_type": "code",
   "execution_count": 21,
   "metadata": {},
   "outputs": [
    {
     "name": "stdout",
     "output_type": "stream",
     "text": [
      "Q1 is  134000.0\n",
      "Q3 is  217750.0\n",
      "IQR is  83750.0\n"
     ]
    }
   ],
   "source": [
    "q1 = df['SalePrice'].quantile(q=0.25)\n",
    "print('Q1 is ',q1)\n",
    "\n",
    "q3 = df['SalePrice'].quantile(q=0.75)\n",
    "print('Q3 is ',q3)\n",
    "\n",
    "iqr = q3-q1\n",
    "print('IQR is ',iqr)\n"
   ]
  },
  {
   "cell_type": "markdown",
   "metadata": {},
   "source": [
    "Box Plot\n",
    "In this task we will plot a Box Plot for the feature of SalePrice\n",
    "\n",
    "Instructions\n",
    "The dataset has been stored in the DataFrame df\n",
    "Use boxplot() method from pandas to plot the boxplot for column SalePrice\n",
    "Label the plot appropriately\n",
    "Test Cases: There are no test cases for this task."
   ]
  },
  {
   "cell_type": "code",
   "execution_count": 125,
   "metadata": {},
   "outputs": [
    {
     "name": "stdout",
     "output_type": "stream",
     "text": [
      "Object `boxplot()` not found.\n"
     ]
    }
   ],
   "source": [
    "?boxplot()"
   ]
  },
  {
   "cell_type": "code",
   "execution_count": 22,
   "metadata": {},
   "outputs": [
    {
     "data": {
      "text/plain": [
       "<matplotlib.axes._subplots.AxesSubplot at 0x1f8001ad548>"
      ]
     },
     "execution_count": 22,
     "metadata": {},
     "output_type": "execute_result"
    },
    {
     "data": {
      "image/png": "[encoded data removed]",
      "text/plain": [
       "<Figure size 432x288 with 1 Axes>"
      ]
     },
     "metadata": {
      "needs_background": "light"
     },
     "output_type": "display_data"
    }
   ],
   "source": [
    "df.boxplot(column='SalePrice')\n"
   ]
  },
  {
   "cell_type": "markdown",
   "metadata": {},
   "source": [
    "COVARIANCE\n",
    "In this task, we will calculate the covariance between LotArea and SalePrice features\n",
    "\n",
    "Instructions\n",
    "Create a new dataframe with columns LotArea and SalePrice with the first 20 observations and store it in variable new\n",
    "Calculate the mean for LotArea and SalePrice, make use of mean() method from pandas and store it in variable mean_lotarea and mean_saleprice\n",
    "Calculate the difference between each observation and mean for LotArea and SalePrice, store the difference series in two different variables named diff_lotarea and diff_saleprice respectively.\n",
    "Multiply diff_lotarea and diff_saleprice and calculate the sum, store the value in variable summation\n",
    "Calculate covariance by dividing summation by the number of observation pairs, store the same in variable covariance and print the same.\n",
    "Test Cases: Expected value of covariance should be 41420373.0."
   ]
  },
  {
   "cell_type": "code",
   "execution_count": 46,
   "metadata": {},
   "outputs": [
    {
     "name": "stdout",
     "output_type": "stream",
     "text": [
      "    LotArea  SalePrice\n",
      "0      8450     208500\n",
      "1      9600     181500\n",
      "2     11250     223500\n",
      "3      9550     140000\n",
      "4     14260     250000\n",
      "5     14115     143000\n",
      "6     10084     307000\n",
      "7     10382     200000\n",
      "8      6120     129900\n",
      "9      7420     118000\n",
      "10    11200     129500\n",
      "11    11924     345000\n",
      "12    12968     144000\n",
      "13    10652     279500\n",
      "14    10920     157000\n",
      "15     6120     132000\n",
      "16    11241     149000\n",
      "17    10791      90000\n",
      "18    13695     159000\n",
      "19     7560     139000\n",
      "Mean Lot Area is :  10415.1\n",
      "Mean Sale Price is :  181270.0\n"
     ]
    }
   ],
   "source": [
    "new = df[['LotArea','SalePrice']]\n",
    "new = new.head(20)\n",
    "print(new)\n",
    "\n",
    "mean_lotarea = new['LotArea'].mean()\n",
    "print('Mean Lot Area is : ',mean_lotarea)\n",
    "\n",
    "mean_saleprice = new['SalePrice'].mean()\n",
    "print('Mean Sale Price is : ',mean_saleprice)"
   ]
  },
  {
   "cell_type": "code",
   "execution_count": 47,
   "metadata": {},
   "outputs": [
    {
     "name": "stdout",
     "output_type": "stream",
     "text": [
      "0      27230.0\n",
      "1        230.0\n",
      "2      42230.0\n",
      "3     -41270.0\n",
      "4      68730.0\n",
      "5     -38270.0\n",
      "6     125730.0\n",
      "7      18730.0\n",
      "8     -51370.0\n",
      "9     -63270.0\n",
      "10    -51770.0\n",
      "11    163730.0\n",
      "12    -37270.0\n",
      "13     98230.0\n",
      "14    -24270.0\n",
      "15    -49270.0\n",
      "16    -32270.0\n",
      "17    -91270.0\n",
      "18    -22270.0\n",
      "19    -42270.0\n",
      "Name: SalePrice, dtype: float64\n"
     ]
    }
   ],
   "source": [
    "#Calculate the difference between each observation and mean for LotArea and SalePrice, store the difference series in two different variables named diff_lotarea and diff_saleprice respectively.\n",
    "diff_lotarea = new['LotArea'] - mean_lotarea\n",
    "#print(diff_lotarea)\n",
    "\n",
    "diff_saleprice = new['SalePrice'] - mean_saleprice\n",
    "print(diff_saleprice)\n",
    "\n"
   ]
  },
  {
   "cell_type": "code",
   "execution_count": 48,
   "metadata": {},
   "outputs": [
    {
     "name": "stdout",
     "output_type": "stream",
     "text": [
      "828407460.0\n"
     ]
    }
   ],
   "source": [
    "#Multiply diff_lotarea and diff_saleprice and calculate the sum, store the value in variable summation\n",
    "\n",
    "summation = (diff_lotarea * diff_saleprice).sum()\n",
    "print(summation)"
   ]
  },
  {
   "cell_type": "code",
   "execution_count": 50,
   "metadata": {},
   "outputs": [
    {
     "name": "stdout",
     "output_type": "stream",
     "text": [
      "Covariance between LotArea and SalePrice is 41420373.0\n"
     ]
    }
   ],
   "source": [
    "#Calculate covariance by dividing summation by the number of observation pairs, store the same in variable covariance and print the same.\n",
    "#len(diff_lotarea)\n",
    "\n",
    "covariance = summation / len(diff_lotarea)\n",
    "print(\"Covariance between LotArea and SalePrice is\", covariance)"
   ]
  },
  {
   "cell_type": "code",
   "execution_count": null,
   "metadata": {},
   "outputs": [],
   "source": [
    "Skewness and Kurtosis\n",
    "Check whether GarageArea is skewed\n",
    "Plot a histogram for GarageArea and identify whether the data is skewed.\n",
    "\n",
    "Instructions\n",
    "Use the hist() method to plot a histogram for GarageArea, keep bins=20 as parameter\n",
    "Test Cases: There are no test cases for this task.\n"
   ]
  },
  {
   "cell_type": "code",
   "execution_count": 54,
   "metadata": {},
   "outputs": [
    {
     "data": {
      "text/plain": [
       "<matplotlib.axes._subplots.AxesSubplot at 0x1f8005aab08>"
      ]
     },
     "execution_count": 54,
     "metadata": {},
     "output_type": "execute_result"
    },
    {
     "data": {
      "image/png": "[encoded data removed]",
      "text/plain": [
       "<Figure size 432x288 with 1 Axes>"
      ]
     },
     "metadata": {
      "needs_background": "light"
     },
     "output_type": "display_data"
    }
   ],
   "source": [
    "df['GarageArea'].hist(bins = 20)"
   ]
  },
  {
   "cell_type": "markdown",
   "metadata": {},
   "source": [
    "Calculate Pearson and Spearman correlation.\n",
    "\n",
    "Instructions\n",
    "You have given new dataframe new_df from an existing data frame with columns LotArea and SalePrice. (This will make the following tasks much simpler)\n",
    "\n",
    "Pearson's Correlation Coefficient\n",
    "\n",
    "Calculate the covariance between two variables by using cov() method from pandas, be careful to take an appropriate value from the dataframe returned by cov() method. Save the value into a variable named covariance\n",
    "Calculate the standard deviation of LotArea and SalePrice using std() method from pandas and store the values in variables std_LotArea and std_SalePrice respectively\n",
    "Calculate the Pearson's correlation coefficient, save the value in variable pearson and print the same."
   ]
  },
  {
   "cell_type": "code",
   "execution_count": 60,
   "metadata": {},
   "outputs": [],
   "source": [
    "newdf = df[['LotArea','SalePrice']].copy()\n",
    "#newdf"
   ]
  },
  {
   "cell_type": "code",
   "execution_count": 73,
   "metadata": {},
   "outputs": [
    {
     "name": "stdout",
     "output_type": "stream",
     "text": [
      "204159593.81452182\n",
      "Pearson's correlation coefficient is : 0.25\n"
     ]
    }
   ],
   "source": [
    "#Covariance\n",
    "covariance = newdf.cov()\n",
    "covariance = covariance.iloc[0][1]\n",
    "type(covariance)\n",
    "print(covariance)\n",
    "\n",
    "#Arun's Solution\n",
    "#covariance = newdf['LotArea'].cov(newdf['SalePrice'])\n",
    "\n",
    "\n",
    "#Std Deviation\n",
    "std_LotArea = newdf['LotArea'].std()\n",
    "std_SalePrice = newdf['SalePrice'].std()\n",
    "\n",
    "#Pearson's correlation coefficient\n",
    "pearson = covariance / (std_LotArea*std_SalePrice)\n",
    "print(\"Pearson's correlation coefficient is :\",round(pearson,2))"
   ]
  },
  {
   "cell_type": "markdown",
   "metadata": {},
   "source": [
    "Spearman Rank Correlation Coefficient\n",
    "\n",
    "Calculate the rank for all the observations using rank() method from pandas. Note that the axis parameter must be set to 0.\n",
    "Create a column d^2 and store the squared value of the difference between the ranks calculated in the previous step\n",
    "Calculate the sum of column d^2 and store the same in d_square\n",
    "Calculate the Spearman rank correlation, store the value in variable spearman and print the same.\n",
    "Test Cases:\n",
    "\n",
    "The value of Pearson correlation should be 0.25.\n",
    "The value of Spearman should be0.44."
   ]
  },
  {
   "cell_type": "code",
   "execution_count": null,
   "metadata": {},
   "outputs": [],
   "source": []
  },
  {
   "cell_type": "code",
   "execution_count": 114,
   "metadata": {},
   "outputs": [
    {
     "name": "stdout",
     "output_type": "stream",
     "text": [
      "   LotArea  SalePrice        d^2\n",
      "0    459.5      991.0  282492.25\n",
      "1    702.0      830.0   16384.00\n",
      "2    975.5     1054.5    6241.00\n",
      "3    680.0      427.5   63756.25\n",
      "4   1231.0     1158.5    5256.25\n",
      "Spearman Rank Correlation Coefficient is : 0.44\n"
     ]
    }
   ],
   "source": [
    "rank = newdf.rank(axis = 0)\n",
    "rank[\"d^2\"] = (rank['LotArea'] - rank['SalePrice'])**2\n",
    "print(rank.head())\n",
    "\n",
    "d_square = rank[\"d^2\"].sum()\n",
    "\n",
    "l = len(rank)\n",
    "n = (6*d_square)\n",
    "d = ((l**2)-1)\n",
    "\n",
    "spearman = 1-(n/(l*d))\n",
    "print(\"Spearman Rank Correlation Coefficient is :\",round(spearman,2))"
   ]
  },
  {
   "cell_type": "code",
   "execution_count": null,
   "metadata": {},
   "outputs": [],
   "source": []
  },
  {
   "cell_type": "code",
   "execution_count": null,
   "metadata": {},
   "outputs": [],
   "source": []
  }
 ],
 "metadata": {
  "kernelspec": {
   "display_name": "Python 3",
   "language": "python",
   "name": "python3"
  },
  "language_info": {
   "codemirror_mode": {
    "name": "ipython",
    "version": 3
   },
   "file_extension": ".py",
   "mimetype": "text/x-python",
   "name": "python",
   "nbconvert_exporter": "python",
   "pygments_lexer": "ipython3",
   "version": "3.7.6"
  }
 },
 "nbformat": 4,
 "nbformat_minor": 4
}
